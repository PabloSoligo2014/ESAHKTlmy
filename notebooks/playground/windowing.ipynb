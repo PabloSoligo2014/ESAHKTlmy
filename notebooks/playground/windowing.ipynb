{
 "cells": [
  {
   "cell_type": "code",
   "execution_count": 32,
   "id": "833b23f7",
   "metadata": {},
   "outputs": [],
   "source": [
    "import pandas as pd\n",
    "import numpy as np"
   ]
  },
  {
   "cell_type": "code",
   "execution_count": 33,
   "id": "06a008ab",
   "metadata": {},
   "outputs": [],
   "source": [
    "# Editable DataFrame creation - you can modify this\n",
    "# Create datetime index with 1-second periods starting from current time\n",
    "datetime_index = pd.date_range(start='2025-07-28 10:00:00', periods=12, freq='1s')\n",
    "\n",
    "# Create DataFrame with numbers 1-12 and datetime index\n",
    "df = pd.DataFrame({'A': [1,2,3,4,5,6,7,8,9,10,11,12]}, index=datetime_index)\n",
    "window_size = 3\n"
   ]
  },
  {
   "cell_type": "code",
   "execution_count": 34,
   "id": "4738fcb6",
   "metadata": {},
   "outputs": [
    {
     "data": {
      "text/plain": [
       "array([[ 1,  2,  3],\n",
       "       [ 2,  3,  4],\n",
       "       [ 3,  4,  5],\n",
       "       [ 4,  5,  6],\n",
       "       [ 5,  6,  7],\n",
       "       [ 6,  7,  8],\n",
       "       [ 7,  8,  9],\n",
       "       [ 8,  9, 10],\n",
       "       [ 9, 10, 11],\n",
       "       [10, 11, 12]], dtype=int64)"
      ]
     },
     "execution_count": 34,
     "metadata": {},
     "output_type": "execute_result"
    }
   ],
   "source": [
    "#Opcion automatica, no realiza copia de datos. Tiene alguna restriccion?\n",
    "np.lib.stride_tricks.sliding_window_view(df[\"A\"], window_size)"
   ]
  },
  {
   "cell_type": "code",
   "execution_count": 25,
   "id": "eb2c80d5",
   "metadata": {},
   "outputs": [],
   "source": [
    "X = np.column_stack([df[\"A\"].shift(i) for i in range(window_size)])\n"
   ]
  },
  {
   "cell_type": "code",
   "execution_count": 27,
   "id": "bd3fd427",
   "metadata": {},
   "outputs": [],
   "source": [
    "X = X[window_size - 1:]"
   ]
  },
  {
   "cell_type": "code",
   "execution_count": null,
   "id": "a42c417d",
   "metadata": {},
   "outputs": [
    {
     "ename": "IndexError",
     "evalue": "only integers, slices (`:`), ellipsis (`...`), numpy.newaxis (`None`) and integer or boolean arrays are valid indices",
     "output_type": "error",
     "traceback": [
      "\u001b[1;31m---------------------------------------------------------------------------\u001b[0m",
      "\u001b[1;31mIndexError\u001b[0m                                Traceback (most recent call last)",
      "Cell \u001b[1;32mIn[29], line 1\u001b[0m\n\u001b[1;32m----> 1\u001b[0m \u001b[43mX\u001b[49m\u001b[43m[\u001b[49m\u001b[38;5;124;43m\"\u001b[39;49m\u001b[38;5;124;43mA\u001b[39;49m\u001b[38;5;124;43m\"\u001b[39;49m\u001b[43m]\u001b[49m[window_size \u001b[38;5;241m-\u001b[39m \u001b[38;5;241m1\u001b[39m:]\n",
      "\u001b[1;31mIndexError\u001b[0m: only integers, slices (`:`), ellipsis (`...`), numpy.newaxis (`None`) and integer or boolean arrays are valid indices"
     ]
    }
   ],
   "source": []
  }
 ],
 "metadata": {
  "kernelspec": {
   "display_name": "venv (3.10.1)",
   "language": "python",
   "name": "python3"
  },
  "language_info": {
   "codemirror_mode": {
    "name": "ipython",
    "version": 3
   },
   "file_extension": ".py",
   "mimetype": "text/x-python",
   "name": "python",
   "nbconvert_exporter": "python",
   "pygments_lexer": "ipython3",
   "version": "3.10.1"
  }
 },
 "nbformat": 4,
 "nbformat_minor": 5
}
